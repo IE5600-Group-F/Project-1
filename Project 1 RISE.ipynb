{
 "cells": [
  {
   "cell_type": "code",
   "execution_count": 1,
   "metadata": {
    "slideshow": {
     "slide_type": "skip"
    }
   },
   "outputs": [
    {
     "data": {
      "text/plain": [
       "{'theme': 'sky', 'transition': 'fade', 'start_slideshow_at': 'selected'}"
      ]
     },
     "execution_count": 1,
     "metadata": {},
     "output_type": "execute_result"
    }
   ],
   "source": [
    "#!/usr/bin/env python3\n",
    "from traitlets.config.manager import BaseJSONConfigManager\n",
    "from pathlib import Path\n",
    "path = Path.home() / \".jupyter\" / \"nbconfig\"\n",
    "cm = BaseJSONConfigManager(config_dir=str(path))\n",
    "cm.update(\n",
    "    \"rise\",\n",
    "    {\n",
    "        \"theme\": \"sky\",\n",
    "        \"transition\": \"fade\",\n",
    "        \"start_slideshow_at\": \"selected\",\n",
    "     }\n",
    ")"
   ]
  },
  {
   "cell_type": "markdown",
   "metadata": {
    "slideshow": {
     "slide_type": "slide"
    }
   },
   "source": [
    "# Comparing global stock indexes during SARS vs COVID-19"
   ]
  },
  {
   "cell_type": "markdown",
   "metadata": {
    "slideshow": {
     "slide_type": "slide"
    }
   },
   "source": [
    "Explain data frame"
   ]
  },
  {
   "cell_type": "code",
   "execution_count": 2,
   "metadata": {
    "slideshow": {
     "slide_type": "skip"
    }
   },
   "outputs": [
    {
     "ename": "NameError",
     "evalue": "name 'merged' is not defined",
     "output_type": "error",
     "traceback": [
      "\u001b[1;31m---------------------------------------------------------------------------\u001b[0m",
      "\u001b[1;31mNameError\u001b[0m                                 Traceback (most recent call last)",
      "\u001b[1;32m<ipython-input-2-6dbf2e9be65e>\u001b[0m in \u001b[0;36m<module>\u001b[1;34m\u001b[0m\n\u001b[0;32m      1\u001b[0m \u001b[1;31m#pull out COVID GSPC column\u001b[0m\u001b[1;33m\u001b[0m\u001b[1;33m\u001b[0m\u001b[1;33m\u001b[0m\u001b[0m\n\u001b[1;32m----> 2\u001b[1;33m \u001b[0mcovid_GSPC\u001b[0m \u001b[1;33m=\u001b[0m  \u001b[0mmerged\u001b[0m\u001b[1;33m.\u001b[0m\u001b[0miloc\u001b[0m\u001b[1;33m[\u001b[0m\u001b[1;33m:\u001b[0m\u001b[1;33m,\u001b[0m\u001b[1;33m[\u001b[0m\u001b[1;36m1\u001b[0m\u001b[1;33m]\u001b[0m\u001b[1;33m,\u001b[0m\u001b[1;33m]\u001b[0m\u001b[1;33m\u001b[0m\u001b[1;33m\u001b[0m\u001b[0m\n\u001b[0m\u001b[0;32m      3\u001b[0m \u001b[0mcovid_GSPC_rolling\u001b[0m \u001b[1;33m=\u001b[0m \u001b[0mcovid_GSPC\u001b[0m\u001b[1;33m.\u001b[0m\u001b[0mrolling\u001b[0m\u001b[1;33m(\u001b[0m\u001b[0mwindow\u001b[0m\u001b[1;33m=\u001b[0m\u001b[1;36m7\u001b[0m\u001b[1;33m)\u001b[0m\u001b[1;33m.\u001b[0m\u001b[0mmean\u001b[0m\u001b[1;33m(\u001b[0m\u001b[1;33m)\u001b[0m\u001b[1;33m\u001b[0m\u001b[1;33m\u001b[0m\u001b[0m\n\u001b[0;32m      4\u001b[0m \u001b[1;33m\u001b[0m\u001b[0m\n\u001b[0;32m      5\u001b[0m \u001b[1;31m#pull out SARS GSPC column\u001b[0m\u001b[1;33m\u001b[0m\u001b[1;33m\u001b[0m\u001b[1;33m\u001b[0m\u001b[0m\n",
      "\u001b[1;31mNameError\u001b[0m: name 'merged' is not defined"
     ]
    }
   ],
   "source": [
    "#pull out COVID GSPC column\n",
    "covid_GSPC =  merged.iloc[:,[1],]\n",
    "covid_GSPC_rolling = covid_GSPC.rolling(window=7).mean()\n",
    "\n",
    "#pull out SARS GSPC column\n",
    "sars_GSPC = merged.iloc[:,[5],]\n",
    "sars_GSPC_rolling = sars_GSPC.rolling(window=7).mean()\n",
    "\n",
    "#pull out COVID N225 column\n",
    "covid_N225 =  merged.iloc[:,[2],]\n",
    "covid_N225_rolling = covid_N225.rolling(window=7).mean()\n",
    "\n",
    "#pull out SARS N225 column\n",
    "sars_N225 = merged.iloc[:,[6],]\n",
    "sars_N225_rolling = sars_N225.rolling(window=7).mean()\n",
    "\n",
    "#pull out COVID STI column\n",
    "covid_STI =  merged.iloc[:,[3],]\n",
    "covid_STI_rolling = covid_STI.rolling(window=7).mean()\n",
    "\n",
    "#pull out SARS STI column\n",
    "sars_STI = merged.iloc[:,[7],]\n",
    "sars_STI_rolling = sars_STI.rolling(window=7).mean()\n",
    "\n",
    "\n",
    "days = [i for i in range(len(merged.iloc[:,[0],]))]"
   ]
  },
  {
   "cell_type": "code",
   "execution_count": null,
   "metadata": {
    "slideshow": {
     "slide_type": "skip"
    }
   },
   "outputs": [],
   "source": [
    "def two_scales(ax1, days, data1, data2, label1, label2):\n",
    "    ax2 = ax1.twinx()\n",
    "    \n",
    "    ax1.plot(days, data1, color='#003f5c')\n",
    "    ax1.set_xlabel('Days')\n",
    "    ax1.set_ylabel(label1)\n",
    "    \n",
    "    ax2.plot(days, data2, color='#ffa600')\n",
    "    ax2.set_ylabel(label2)\n",
    "    return ax1, ax2\n",
    "\n",
    "def color_y_axis(ax, color):\n",
    "    \"\"\"Color the axes.\"\"\"\n",
    "    for t in ax.get_yticklabels():\n",
    "        t.set_color(color)\n",
    "    return None"
   ]
  },
  {
   "cell_type": "markdown",
   "metadata": {
    "slideshow": {
     "slide_type": "slide"
    }
   },
   "source": [
    "STI Covid vs SARS"
   ]
  },
  {
   "cell_type": "code",
   "execution_count": null,
   "metadata": {
    "slideshow": {
     "slide_type": "subslide"
    }
   },
   "outputs": [],
   "source": [
    "#plot multi axes graph\n",
    "fig, ax = plt.subplots(figsize=(14, 7))\n",
    "ax1, ax2 = two_scales(ax, days, covid_STI_rolling, sars_STI_rolling, 'STI COVID', 'STI SARS')\n",
    "color_y_axis(ax1, '#003f5c')\n",
    "color_y_axis(ax2, '#ffa600')"
   ]
  },
  {
   "cell_type": "markdown",
   "metadata": {
    "slideshow": {
     "slide_type": "slide"
    }
   },
   "source": [
    "NIKKEI Covid vs SARS"
   ]
  },
  {
   "cell_type": "code",
   "execution_count": null,
   "metadata": {
    "slideshow": {
     "slide_type": "subslide"
    }
   },
   "outputs": [],
   "source": [
    "#plot multi axes graph\n",
    "fig, ax = plt.subplots(figsize=(14, 7))\n",
    "ax1, ax2 = two_scales(ax, days, covid_N225_rolling, sars_N225_rolling, 'N225 COVID', 'N225 SARS')\n",
    "color_y_axis(ax1, '#003f5c')\n",
    "color_y_axis(ax2, '#ffa600')"
   ]
  },
  {
   "cell_type": "markdown",
   "metadata": {
    "slideshow": {
     "slide_type": "slide"
    }
   },
   "source": [
    "S&P500 Covid vs SARS"
   ]
  },
  {
   "cell_type": "code",
   "execution_count": null,
   "metadata": {},
   "outputs": [],
   "source": [
    "#plot multi axes graph\n",
    "fig, ax = plt.subplots(figsize=(14, 7))\n",
    "ax1, ax2 = two_scales(ax, days, covid_GSPC_rolling, sars_GSPC_rolling, 'GSPC COVID', 'GSPC SARS')\n",
    "color_y_axis(ax1, '#003f5c')\n",
    "color_y_axis(ax2, '#ffa600')"
   ]
  },
  {
   "cell_type": "markdown",
   "metadata": {
    "slideshow": {
     "slide_type": "slide"
    }
   },
   "source": [
    "Fluctuation of STI"
   ]
  },
  {
   "cell_type": "markdown",
   "metadata": {
    "slideshow": {
     "slide_type": "slide"
    }
   },
   "source": [
    "Fluctuation of NIKKEI"
   ]
  },
  {
   "cell_type": "markdown",
   "metadata": {
    "slideshow": {
     "slide_type": "slide"
    }
   },
   "source": [
    "Fluctuation of S&P500"
   ]
  },
  {
   "cell_type": "markdown",
   "metadata": {
    "slideshow": {
     "slide_type": "slide"
    }
   },
   "source": [
    "Correlation"
   ]
  },
  {
   "cell_type": "markdown",
   "metadata": {
    "slideshow": {
     "slide_type": "slide"
    }
   },
   "source": [
    "Conclusion"
   ]
  }
 ],
 "metadata": {
  "celltoolbar": "Slideshow",
  "kernelspec": {
   "display_name": "Python 3",
   "language": "python",
   "name": "python3"
  },
  "language_info": {
   "codemirror_mode": {
    "name": "ipython",
    "version": 3
   },
   "file_extension": ".py",
   "mimetype": "text/x-python",
   "name": "python",
   "nbconvert_exporter": "python",
   "pygments_lexer": "ipython3",
   "version": "3.7.4"
  }
 },
 "nbformat": 4,
 "nbformat_minor": 4
}
