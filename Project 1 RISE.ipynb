{
 "cells": [
  {
   "cell_type": "code",
   "execution_count": 2,
   "metadata": {
    "slideshow": {
     "slide_type": "skip"
    }
   },
   "outputs": [
    {
     "data": {
      "text/plain": [
       "{'theme': 'sky', 'transition': 'fade', 'start_slideshow_at': 'selected'}"
      ]
     },
     "execution_count": 2,
     "metadata": {},
     "output_type": "execute_result"
    }
   ],
   "source": [
    "#!/usr/bin/env python3\n",
    "from traitlets.config.manager import BaseJSONConfigManager\n",
    "from pathlib import Path\n",
    "path = Path.home() / \".jupyter\" / \"nbconfig\"\n",
    "cm = BaseJSONConfigManager(config_dir=str(path))\n",
    "cm.update(\n",
    "    \"rise\",\n",
    "    {\n",
    "        \"theme\": \"sky\",\n",
    "        \"transition\": \"fade\",\n",
    "        \"start_slideshow_at\": \"selected\",\n",
    "     }\n",
    ")"
   ]
  },
  {
   "cell_type": "markdown",
   "metadata": {
    "slideshow": {
     "slide_type": "slide"
    }
   },
   "source": [
    "# Comparing global stock indexes during SARS vs COVID-19"
   ]
  },
  {
   "cell_type": "code",
   "execution_count": 1,
   "metadata": {
    "slideshow": {
     "slide_type": "skip"
    }
   },
   "outputs": [
    {
     "name": "stdout",
     "output_type": "stream",
     "text": [
      "[*********************100%***********************]  3 of 3 completed\n",
      "[*********************100%***********************]  3 of 3 completed\n"
     ]
    }
   ],
   "source": [
    "#Initialisation\n",
    "import numpy as np\n",
    "import pandas as pd\n",
    "import matplotlib.pyplot as plt\n",
    "import yfinance as yf\n",
    "#S&P500 Index\n",
    "sp = yf.Ticker(\"^GSPC\")\n",
    "#Nikkei Index\n",
    "nikkei = yf.Ticker(\"^N225\")\n",
    "# Straits Times Index\n",
    "sti = yf.Ticker(\"^STI\")\n",
    "\n",
    "# Retriving DF of the 3 tickers , forward fill to fill NAN entries and backfill to fill day 1 NAN entries\n",
    "#COVID DF\n",
    "covid_df = yf.download(\"^GSPC ^N225 ^STI\", start=\"2020-01-18\", end=\"2020-07-18\")\n",
    "covid_df = covid_df.fillna(method='ffill')\n",
    "covid_df = covid_df.fillna(method='bfill')\n",
    "covid_df = covid_df.reset_index()\n",
    "covid_df = covid_df[['Date','Adj Close']]\n",
    "covid_df = covid_df.rename(columns={'Adj Close': 'Adj Close_COVID', 'Date':'Date_COVID'})\n",
    "\n",
    "#SARS DF\n",
    "sars_df = yf.download(\"^GSPC ^N225 ^STI\", start=\"2003-02-08\", end=\"2003-08-09\")\n",
    "sars_df = sars_df.fillna(method='ffill')\n",
    "sars_df = sars_df.fillna(method='bfill')\n",
    "sars_df = sars_df.reset_index()\n",
    "sars_df = sars_df[['Date','Adj Close']]\n",
    "sars_df = sars_df.rename(columns={'Adj Close': 'Adj Close_SARS', 'Date':'Date_SARS'})\n",
    "\n",
    "merged = covid_df.merge(sars_df, left_index = True, right_index = True)\n",
    "merged"
   ]
  },
  {
   "cell_type": "markdown",
   "metadata": {
    "slideshow": {
     "slide_type": "slide"
    }
   },
   "source": [
    "Explain data frame\n",
    "\n",
    "merged"
   ]
  },
  {
   "cell_type": "markdown",
   "metadata": {
    "slideshow": {
     "slide_type": "slide"
    }
   },
   "source": [
    "STI Covid vs SARS"
   ]
  },
  {
   "cell_type": "markdown",
   "metadata": {
    "slideshow": {
     "slide_type": "slide"
    }
   },
   "source": [
    "NIKKEI Covid vs SARS"
   ]
  },
  {
   "cell_type": "markdown",
   "metadata": {
    "slideshow": {
     "slide_type": "slide"
    }
   },
   "source": [
    "S&P500 Covid vs SARS"
   ]
  },
  {
   "cell_type": "markdown",
   "metadata": {
    "slideshow": {
     "slide_type": "slide"
    }
   },
   "source": [
    "Fluctuation of STI"
   ]
  },
  {
   "cell_type": "markdown",
   "metadata": {
    "slideshow": {
     "slide_type": "slide"
    }
   },
   "source": [
    "Fluctuation of NIKKEI"
   ]
  },
  {
   "cell_type": "markdown",
   "metadata": {
    "slideshow": {
     "slide_type": "slide"
    }
   },
   "source": [
    "Fluctuation of S&P500"
   ]
  },
  {
   "cell_type": "markdown",
   "metadata": {
    "slideshow": {
     "slide_type": "slide"
    }
   },
   "source": [
    "Correlation"
   ]
  },
  {
   "cell_type": "markdown",
   "metadata": {
    "slideshow": {
     "slide_type": "slide"
    }
   },
   "source": [
    "Conclusion"
   ]
  }
 ],
 "metadata": {
  "celltoolbar": "Slideshow",
  "kernelspec": {
   "display_name": "Python 3",
   "language": "python",
   "name": "python3"
  },
  "language_info": {
   "codemirror_mode": {
    "name": "ipython",
    "version": 3
   },
   "file_extension": ".py",
   "mimetype": "text/x-python",
   "name": "python",
   "nbconvert_exporter": "python",
   "pygments_lexer": "ipython3",
   "version": "3.8.3"
  }
 },
 "nbformat": 4,
 "nbformat_minor": 4
}
