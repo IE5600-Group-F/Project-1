{
 "cells": [
  {
   "cell_type": "code",
   "execution_count": 2,
   "metadata": {
    "slideshow": {
     "slide_type": "skip"
    }
   },
   "outputs": [
    {
     "data": {
      "text/plain": [
       "{'theme': 'sky', 'transition': 'fade', 'start_slideshow_at': 'selected'}"
      ]
     },
     "execution_count": 2,
     "metadata": {},
     "output_type": "execute_result"
    }
   ],
   "source": [
    "#!/usr/bin/env python3\n",
    "from traitlets.config.manager import BaseJSONConfigManager\n",
    "from pathlib import Path\n",
    "path = Path.home() / \".jupyter\" / \"nbconfig\"\n",
    "cm = BaseJSONConfigManager(config_dir=str(path))\n",
    "cm.update(\n",
    "    \"rise\",\n",
    "    {\n",
    "        \"theme\": \"sky\",\n",
    "        \"transition\": \"fade\",\n",
    "        \"start_slideshow_at\": \"selected\",\n",
    "     }\n",
    ")"
   ]
  },
  {
   "cell_type": "code",
   "execution_count": 1,
   "metadata": {},
   "outputs": [],
   "source": [
    "#Initialisation\n",
    "import numpy as np\n",
    "import pandas as pd\n",
    "import matplotlib.pyplot as plt\n",
    "import yfinance as yf"
   ]
  },
  {
   "cell_type": "code",
   "execution_count": 2,
   "metadata": {},
   "outputs": [
    {
     "name": "stdout",
     "output_type": "stream",
     "text": [
      "[*********************100%***********************]  3 of 3 completed\n",
      "[*********************100%***********************]  3 of 3 completed\n"
     ]
    }
   ],
   "source": [
    "#S&P500 Index\n",
    "sp = yf.Ticker(\"^GSPC\")\n",
    "#Nikkei Index\n",
    "nikkei = yf.Ticker(\"^N225\")\n",
    "# Straits Times Index\n",
    "sti = yf.Ticker(\"^STI\")\n",
    "\n",
    "# Retriving DF of the 3 tickers , forward fill to fill NAN entries and backfill to fill day 1 NAN entries\n",
    "#COVID DF\n",
    "covid_df = yf.download(\"^GSPC ^N225 ^STI\", start=\"2020-01-18\", end=\"2020-07-18\")\n",
    "covid_df = covid_df.fillna(method='ffill')\n",
    "covid_df = covid_df.fillna(method='bfill')\n",
    "covid_df = covid_df.reset_index()\n",
    "covid_df = covid_df[['Date','Adj Close']]\n",
    "covid_df = covid_df.rename(columns={'Adj Close': 'Adj Close_COVID', 'Date':'Date_COVID'})\n",
    "\n",
    "#SARS DF\n",
    "sars_df = yf.download(\"^GSPC ^N225 ^STI\", start=\"2003-02-08\", end=\"2003-08-09\")\n",
    "sars_df = sars_df.fillna(method='ffill')\n",
    "sars_df = sars_df.fillna(method='bfill')\n",
    "sars_df = sars_df.reset_index()\n",
    "sars_df = sars_df[['Date','Adj Close']]\n",
    "sars_df = sars_df.rename(columns={'Adj Close': 'Adj Close_SARS', 'Date':'Date_SARS'})"
   ]
  },
  {
   "cell_type": "markdown",
   "metadata": {
    "slideshow": {
     "slide_type": "slide"
    }
   },
   "source": [
    "# Comparing global stock indexes during SARS vs COVID-19"
   ]
  },
  {
   "cell_type": "markdown",
   "metadata": {
    "slideshow": {
     "slide_type": "slide"
    }
   },
   "source": [
    "Explain data frame"
   ]
  },
  {
   "cell_type": "markdown",
   "metadata": {
    "slideshow": {
     "slide_type": "slide"
    }
   },
   "source": [
    "STI Covid vs SARS"
   ]
  },
  {
   "cell_type": "markdown",
   "metadata": {
    "slideshow": {
     "slide_type": "slide"
    }
   },
   "source": [
    "NIKKEI Covid vs SARS"
   ]
  },
  {
   "cell_type": "markdown",
   "metadata": {
    "slideshow": {
     "slide_type": "slide"
    }
   },
   "source": [
    "S&P500 Covid vs SARS"
   ]
  },
  {
   "cell_type": "markdown",
   "metadata": {
    "slideshow": {
     "slide_type": "slide"
    }
   },
   "source": [
    "Fluctuation of STI"
   ]
  },
  {
   "cell_type": "markdown",
   "metadata": {
    "slideshow": {
     "slide_type": "slide"
    }
   },
   "source": [
    "Fluctuation of NIKKEI"
   ]
  },
  {
   "cell_type": "markdown",
   "metadata": {
    "slideshow": {
     "slide_type": "slide"
    }
   },
   "source": [
    "Fluctuation of S&P500"
   ]
  },
  {
   "cell_type": "markdown",
   "metadata": {
    "slideshow": {
     "slide_type": "slide"
    }
   },
   "source": [
    "Correlation"
   ]
  },
  {
   "cell_type": "code",
   "execution_count": 3,
   "metadata": {},
   "outputs": [
    {
     "data": {
      "text/html": [
       "<div>\n",
       "<style scoped>\n",
       "    .dataframe tbody tr th:only-of-type {\n",
       "        vertical-align: middle;\n",
       "    }\n",
       "\n",
       "    .dataframe tbody tr th {\n",
       "        vertical-align: top;\n",
       "    }\n",
       "\n",
       "    .dataframe thead th {\n",
       "        text-align: right;\n",
       "    }\n",
       "</style>\n",
       "<table border=\"1\" class=\"dataframe\">\n",
       "  <thead>\n",
       "    <tr style=\"text-align: right;\">\n",
       "      <th></th>\n",
       "      <th>^GSPC</th>\n",
       "      <th>^N225</th>\n",
       "      <th>^STI</th>\n",
       "    </tr>\n",
       "  </thead>\n",
       "  <tbody>\n",
       "    <tr>\n",
       "      <th>1</th>\n",
       "      <td>-0.442181</td>\n",
       "      <td>0.230015</td>\n",
       "      <td>1.0</td>\n",
       "    </tr>\n",
       "    <tr>\n",
       "      <th>2</th>\n",
       "      <td>0.305900</td>\n",
       "      <td>0.588209</td>\n",
       "      <td>1.0</td>\n",
       "    </tr>\n",
       "    <tr>\n",
       "      <th>3</th>\n",
       "      <td>0.450583</td>\n",
       "      <td>0.584312</td>\n",
       "      <td>1.0</td>\n",
       "    </tr>\n",
       "    <tr>\n",
       "      <th>4</th>\n",
       "      <td>0.527622</td>\n",
       "      <td>0.617079</td>\n",
       "      <td>1.0</td>\n",
       "    </tr>\n",
       "    <tr>\n",
       "      <th>5</th>\n",
       "      <td>-0.001226</td>\n",
       "      <td>0.467767</td>\n",
       "      <td>1.0</td>\n",
       "    </tr>\n",
       "    <tr>\n",
       "      <th>6</th>\n",
       "      <td>0.505536</td>\n",
       "      <td>0.808540</td>\n",
       "      <td>1.0</td>\n",
       "    </tr>\n",
       "    <tr>\n",
       "      <th>7</th>\n",
       "      <td>0.691616</td>\n",
       "      <td>0.301072</td>\n",
       "      <td>1.0</td>\n",
       "    </tr>\n",
       "  </tbody>\n",
       "</table>\n",
       "</div>"
      ],
      "text/plain": [
       "      ^GSPC     ^N225  ^STI\n",
       "1 -0.442181  0.230015   1.0\n",
       "2  0.305900  0.588209   1.0\n",
       "3  0.450583  0.584312   1.0\n",
       "4  0.527622  0.617079   1.0\n",
       "5 -0.001226  0.467767   1.0\n",
       "6  0.505536  0.808540   1.0\n",
       "7  0.691616  0.301072   1.0"
      ]
     },
     "execution_count": 3,
     "metadata": {},
     "output_type": "execute_result"
    }
   ],
   "source": [
    "covid_df=covid_df.set_index('Date_COVID')\n",
    "# covid_df.iloc[:,1:3]\n",
    "\n",
    "sars_df.set_index('Date_SARS')\n",
    "\n",
    "spx_corr = lambda x: x.corrwith(x[\"^STI\"])\n",
    "\n",
    "rets = covid_df.pct_change().dropna()\n",
    "rets.columns = rets.columns.droplevel(0)\n",
    "# rets\n",
    "\n",
    "get_month = lambda x: x.month\n",
    "by_month = rets.groupby(get_month)\n",
    "# by_month\n",
    "\n",
    "by_month.apply(spx_corr)"
   ]
  },
  {
   "cell_type": "markdown",
   "metadata": {
    "slideshow": {
     "slide_type": "slide"
    }
   },
   "source": [
    "Conclusion"
   ]
  }
 ],
 "metadata": {
  "celltoolbar": "Slideshow",
  "kernelspec": {
   "display_name": "Python 3",
   "language": "python",
   "name": "python3"
  },
  "language_info": {
   "codemirror_mode": {
    "name": "ipython",
    "version": 3
   },
   "file_extension": ".py",
   "mimetype": "text/x-python",
   "name": "python",
   "nbconvert_exporter": "python",
   "pygments_lexer": "ipython3",
   "version": "3.7.7"
  }
 },
 "nbformat": 4,
 "nbformat_minor": 4
}
